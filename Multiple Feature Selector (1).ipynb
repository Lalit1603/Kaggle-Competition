{
 "cells": [
  {
   "cell_type": "code",
   "execution_count": 133,
   "id": "5113d1b3",
   "metadata": {},
   "outputs": [],
   "source": [
    "import pandas as pd\n",
    "import numpy as np\n",
    "import seaborn as sns\n",
    "from mafese import Data\n",
    "import matplotlib.pyplot as plt \n",
    "\n",
    "#for checking the performance of model\n",
    "from sklearn.metrics import accuracy_score\n",
    "from xgboost import XGBClassifier\n",
    "\n",
    "import warnings\n",
    "warnings.filterwarnings('ignore')\n",
    "df = pd.read_csv('new_kidney_disease.csv')\n",
    "\n",
    "cols = df.columns\n",
    "X = df.iloc[:, :-1]\n",
    "y = df.iloc[:, -1]\n",
    "data=Data(X,y)\n",
    "\n",
    "data.split_train_test(test_size=0.2, inplace=True)"
   ]
  },
  {
   "cell_type": "code",
   "execution_count": null,
   "id": "d1208bba",
   "metadata": {},
   "outputs": [],
   "source": []
  },
  {
   "cell_type": "markdown",
   "id": "7691b35d",
   "metadata": {},
   "source": [
    " For Unsupervised Selector"
   ]
  },
  {
   "cell_type": "code",
   "execution_count": 134,
   "id": "67a9d01a",
   "metadata": {
    "scrolled": true
   },
   "outputs": [
    {
     "name": "stdout",
     "output_type": "stream",
     "text": [
      "[False False False False False  True  True False False False False False\n",
      " False False False False False False  True  True False  True False False]\n",
      "[0 0 0 0 0 1 1 0 0 0 0 0 0 0 0 0 0 0 1 1 0 1 0 0]\n",
      "[ 5  6 18 19 21]\n"
     ]
    }
   ],
   "source": [
    "from mafese.unsupervised import UnsupervisedSelector\n",
    "feat_selector = UnsupervisedSelector(problem='classification', method='DR', n_features=5)\n",
    "feat_selector.fit(data.X_train)\n",
    "print(feat_selector.selected_feature_masks)\n",
    "print(feat_selector.selected_feature_solution)\n",
    "print(feat_selector.selected_feature_indexes)"
   ]
  },
  {
   "cell_type": "code",
   "execution_count": 135,
   "id": "ecb311cf",
   "metadata": {},
   "outputs": [
    {
     "name": "stdout",
     "output_type": "stream",
     "text": [
      "Selected Features Accuracy: 0.9375\n"
     ]
    }
   ],
   "source": [
    "selected_feature_indices = feat_selector.selected_feature_indexes\n",
    "\n",
    "X_train_selected = data.X_train.iloc[:, selected_feature_indices]\n",
    "X_test_selected = data.X_test.iloc[:, selected_feature_indices]\n",
    "\n",
    "model = XGBClassifier()\n",
    "model.fit(X_train_selected, data.y_train)\n",
    "\n",
    "\n",
    "y_pred = model.predict(X_test_selected)\n",
    "accuracy = accuracy_score(data.y_test, y_pred)\n",
    "\n",
    "print(\"Selected Features Accuracy:\", accuracy)"
   ]
  },
  {
   "cell_type": "markdown",
   "id": "7d6edcf6",
   "metadata": {},
   "source": [
    "###### Accuracy For Unsupervised Selector is 93 %"
   ]
  },
  {
   "cell_type": "code",
   "execution_count": null,
   "id": "d41a345c",
   "metadata": {},
   "outputs": [],
   "source": []
  },
  {
   "cell_type": "code",
   "execution_count": 136,
   "id": "5fe85126",
   "metadata": {},
   "outputs": [],
   "source": [
    "#For Filter Selector"
   ]
  },
  {
   "cell_type": "code",
   "execution_count": 137,
   "id": "19c9d4b9",
   "metadata": {},
   "outputs": [
    {
     "name": "stdout",
     "output_type": "stream",
     "text": [
      "[False False False  True False False False False False False  True  True\n",
      " False False False False False False  True  True False False False False]\n",
      "[0 0 0 1 0 0 0 0 0 0 1 1 0 0 0 0 0 0 1 1 0 0 0 0]\n",
      "[ 3 10 11 18 19]\n"
     ]
    }
   ],
   "source": [
    "from mafese.filter import FilterSelector\n",
    "\n",
    "feat_selector = FilterSelector(problem='classification', method='SPEARMAN', n_features=5)\n",
    "X_train_np = np.array(data.X_train)\n",
    "y_train_np = np.array(data.y_train)\n",
    "feat_selector.fit(X_train_np, y_train_np)\n",
    "\n",
    "print(feat_selector.selected_feature_masks)\n",
    "print(feat_selector.selected_feature_solution)\n",
    "print(feat_selector.selected_feature_indexes)\n"
   ]
  },
  {
   "cell_type": "code",
   "execution_count": 138,
   "id": "0d20c857",
   "metadata": {},
   "outputs": [
    {
     "name": "stdout",
     "output_type": "stream",
     "text": [
      "Selected Features Accuracy: 0.9\n"
     ]
    }
   ],
   "source": [
    "selected_feature_indices = feat_selector.selected_feature_indexes\n",
    "\n",
    "X_train_selected = data.X_train.iloc[:, selected_feature_indices]\n",
    "X_test_selected = data.X_test.iloc[:, selected_feature_indices]\n",
    "\n",
    "model = XGBClassifier()\n",
    "model.fit(X_train_selected, data.y_train)\n",
    "\n",
    "\n",
    "y_pred = model.predict(X_test_selected)\n",
    "accuracy = accuracy_score(data.y_test, y_pred)\n",
    "\n",
    "print(\"Selected Features Accuracy:\", accuracy)"
   ]
  },
  {
   "cell_type": "markdown",
   "id": "61be06a7",
   "metadata": {},
   "source": [
    "###### Accuracy For Filter Selector is 90 %"
   ]
  },
  {
   "cell_type": "code",
   "execution_count": null,
   "id": "961ac379",
   "metadata": {},
   "outputs": [],
   "source": []
  },
  {
   "cell_type": "code",
   "execution_count": 139,
   "id": "26079dcf",
   "metadata": {},
   "outputs": [],
   "source": [
    "#For Lasso Selector"
   ]
  },
  {
   "cell_type": "code",
   "execution_count": 140,
   "id": "7884ff8a",
   "metadata": {},
   "outputs": [
    {
     "name": "stdout",
     "output_type": "stream",
     "text": [
      "[ True  True False  True False False False False False  True  True False\n",
      "  True False  True  True  True False False False False False False False]\n",
      "[1 1 0 1 0 0 0 0 0 1 1 0 1 0 1 1 1 0 0 0 0 0 0 0]\n",
      "[ 0  1  3  9 10 12 14 15 16]\n"
     ]
    }
   ],
   "source": [
    "from mafese.embedded.lasso import LassoSelector\n",
    "feat_selector = LassoSelector(problem=\"classification\", estimator=\"lasso\", estimator_paras={\"alpha\": 0.1})\n",
    "feat_selector.fit(data.X_train,data.y_train)\n",
    "print(feat_selector.selected_feature_masks)\n",
    "print(feat_selector.selected_feature_solution)\n",
    "print(feat_selector.selected_feature_indexes)"
   ]
  },
  {
   "cell_type": "code",
   "execution_count": 141,
   "id": "d685e08b",
   "metadata": {},
   "outputs": [
    {
     "name": "stdout",
     "output_type": "stream",
     "text": [
      "Selected Features Accuracy: 0.975\n"
     ]
    }
   ],
   "source": [
    "selected_feature_indices = feat_selector.selected_feature_indexes\n",
    "\n",
    "X_train_selected = data.X_train.iloc[:, selected_feature_indices]\n",
    "X_test_selected = data.X_test.iloc[:, selected_feature_indices]\n",
    "\n",
    "model = XGBClassifier()\n",
    "model.fit(X_train_selected, data.y_train)\n",
    "\n",
    "\n",
    "y_pred = model.predict(X_test_selected)\n",
    "accuracy = accuracy_score(data.y_test, y_pred)\n",
    "\n",
    "print(\"Selected Features Accuracy:\", accuracy)"
   ]
  },
  {
   "cell_type": "markdown",
   "id": "323b2193",
   "metadata": {},
   "source": [
    "###### Accuracy for Lasso Selector is 97%"
   ]
  },
  {
   "cell_type": "code",
   "execution_count": null,
   "id": "9c88410d",
   "metadata": {},
   "outputs": [],
   "source": []
  },
  {
   "cell_type": "code",
   "execution_count": 142,
   "id": "9222ca3f",
   "metadata": {},
   "outputs": [],
   "source": [
    "#For Tree Selector"
   ]
  },
  {
   "cell_type": "code",
   "execution_count": 143,
   "id": "9fbe0125",
   "metadata": {},
   "outputs": [
    {
     "name": "stdout",
     "output_type": "stream",
     "text": [
      "[False False  True  True False  True False False False False False False\n",
      " False False  True  True False False  True  True False  True False False]\n",
      "[0 0 1 1 0 1 0 0 0 0 0 0 0 0 1 1 0 0 1 1 0 1 0 0]\n",
      "[ 2  3  5 14 15 18 19 21]\n"
     ]
    }
   ],
   "source": [
    "from mafese.embedded.tree import TreeSelector\n",
    "feat_selector = TreeSelector(problem=\"classification\", estimator=\"tree\")\n",
    "feat_selector.fit(data.X_train,data.y_train)\n",
    "print(feat_selector.selected_feature_masks)\n",
    "print(feat_selector.selected_feature_solution)\n",
    "print(feat_selector.selected_feature_indexes)"
   ]
  },
  {
   "cell_type": "code",
   "execution_count": 144,
   "id": "54aea8d1",
   "metadata": {},
   "outputs": [
    {
     "name": "stdout",
     "output_type": "stream",
     "text": [
      "Selected Features Accuracy: 0.975\n"
     ]
    }
   ],
   "source": [
    "selected_feature_indices = feat_selector.selected_feature_indexes\n",
    "\n",
    "X_train_selected = data.X_train.iloc[:, selected_feature_indices]\n",
    "X_test_selected = data.X_test.iloc[:, selected_feature_indices]\n",
    "\n",
    "model = XGBClassifier()\n",
    "model.fit(X_train_selected, data.y_train)\n",
    "\n",
    "\n",
    "y_pred = model.predict(X_test_selected)\n",
    "accuracy = accuracy_score(data.y_test, y_pred)\n",
    "\n",
    "print(\"Selected Features Accuracy:\", accuracy)"
   ]
  },
  {
   "cell_type": "markdown",
   "id": "f316172b",
   "metadata": {},
   "source": [
    "###### Accuracy for Tree Selector is 97%"
   ]
  },
  {
   "cell_type": "code",
   "execution_count": null,
   "id": "933c1f0f",
   "metadata": {},
   "outputs": [],
   "source": []
  },
  {
   "cell_type": "code",
   "execution_count": 145,
   "id": "e7452199",
   "metadata": {},
   "outputs": [],
   "source": [
    "#For Sequential Selector"
   ]
  },
  {
   "cell_type": "code",
   "execution_count": 146,
   "id": "ded998b7",
   "metadata": {},
   "outputs": [
    {
     "name": "stdout",
     "output_type": "stream",
     "text": [
      "[False False False  True False  True False False False False False  True\n",
      " False False False False False False False False False False False False]\n",
      "[0 0 0 1 0 1 0 0 0 0 0 1 0 0 0 0 0 0 0 0 0 0 0 0]\n",
      "[ 3  5 11]\n"
     ]
    }
   ],
   "source": [
    "from mafese.wrapper.sequential import SequentialSelector\n",
    "feat_selector = SequentialSelector(problem=\"classification\", estimator=\"knn\", n_features=3, direction=\"forward\")\n",
    "feat_selector.fit(data.X_train,data.y_train)\n",
    "print(feat_selector.selected_feature_masks)\n",
    "print(feat_selector.selected_feature_solution)\n",
    "print(feat_selector.selected_feature_indexes)"
   ]
  },
  {
   "cell_type": "code",
   "execution_count": 147,
   "id": "f0fb3aad",
   "metadata": {},
   "outputs": [
    {
     "name": "stdout",
     "output_type": "stream",
     "text": [
      "Selected Features Accuracy: 0.95\n"
     ]
    }
   ],
   "source": [
    "selected_feature_indices = feat_selector.selected_feature_indexes\n",
    "\n",
    "X_train_selected = data.X_train.iloc[:, selected_feature_indices]\n",
    "X_test_selected = data.X_test.iloc[:, selected_feature_indices]\n",
    "\n",
    "model = XGBClassifier()\n",
    "model.fit(X_train_selected, data.y_train)\n",
    "\n",
    "\n",
    "y_pred = model.predict(X_test_selected)\n",
    "accuracy = accuracy_score(data.y_test, y_pred)\n",
    "\n",
    "print(\"Selected Features Accuracy:\", accuracy)"
   ]
  },
  {
   "cell_type": "markdown",
   "id": "a235166b",
   "metadata": {},
   "source": [
    "###### Accuracy Using Sequential Selector is 95%"
   ]
  },
  {
   "cell_type": "code",
   "execution_count": null,
   "id": "8549256c",
   "metadata": {},
   "outputs": [],
   "source": []
  },
  {
   "cell_type": "code",
   "execution_count": 148,
   "id": "7c50b818",
   "metadata": {},
   "outputs": [],
   "source": [
    "#Using MhaSelector"
   ]
  },
  {
   "cell_type": "code",
   "execution_count": 149,
   "id": "a788ec01",
   "metadata": {
    "scrolled": true
   },
   "outputs": [
    {
     "name": "stderr",
     "output_type": "stream",
     "text": [
      "2024/11/06 08:16:48 AM, INFO, mealpy.evolutionary_based.GA.BaseGA: Solving 2-objective optimization problem with weights: [1. 0.].\n"
     ]
    },
    {
     "name": "stdout",
     "output_type": "stream",
     "text": [
      "(320, 24) (80, 24)\n"
     ]
    },
    {
     "name": "stderr",
     "output_type": "stream",
     "text": [
      "2024/11/06 08:16:52 AM, INFO, mealpy.evolutionary_based.GA.BaseGA: >Problem: P, Epoch: 1, Current best: 0.7320833333333333, Global best: 0.7320833333333333, Runtime: 1.69001 seconds\n",
      "2024/11/06 08:16:52 AM, INFO, mealpy.evolutionary_based.GA.BaseGA: >Problem: P, Epoch: 2, Current best: 0.8483333333333333, Global best: 0.8483333333333333, Runtime: 0.65962 seconds\n",
      "2024/11/06 08:16:53 AM, INFO, mealpy.evolutionary_based.GA.BaseGA: >Problem: P, Epoch: 3, Current best: 0.7795833333333334, Global best: 0.8483333333333333, Runtime: 0.37467 seconds\n",
      "2024/11/06 08:16:53 AM, INFO, mealpy.evolutionary_based.GA.BaseGA: >Problem: P, Epoch: 4, Current best: 0.8370833333333334, Global best: 0.8483333333333333, Runtime: 0.37327 seconds\n",
      "2024/11/06 08:16:54 AM, INFO, mealpy.evolutionary_based.GA.BaseGA: >Problem: P, Epoch: 5, Current best: 0.8341666666666666, Global best: 0.8483333333333333, Runtime: 0.37389 seconds\n",
      "2024/11/06 08:16:54 AM, INFO, mealpy.evolutionary_based.GA.BaseGA: >Problem: P, Epoch: 6, Current best: 0.8524999999999999, Global best: 0.8524999999999999, Runtime: 0.36868 seconds\n",
      "2024/11/06 08:16:54 AM, INFO, mealpy.evolutionary_based.GA.BaseGA: >Problem: P, Epoch: 7, Current best: 0.865, Global best: 0.865, Runtime: 0.35873 seconds\n",
      "2024/11/06 08:16:55 AM, INFO, mealpy.evolutionary_based.GA.BaseGA: >Problem: P, Epoch: 8, Current best: 0.8608333333333332, Global best: 0.865, Runtime: 0.36167 seconds\n",
      "2024/11/06 08:16:55 AM, INFO, mealpy.evolutionary_based.GA.BaseGA: >Problem: P, Epoch: 9, Current best: 0.8608333333333332, Global best: 0.865, Runtime: 0.36805 seconds\n",
      "2024/11/06 08:16:55 AM, INFO, mealpy.evolutionary_based.GA.BaseGA: >Problem: P, Epoch: 10, Current best: 0.8566666666666666, Global best: 0.865, Runtime: 0.35933 seconds\n",
      "2024/11/06 08:16:56 AM, INFO, mealpy.evolutionary_based.GA.BaseGA: >Problem: P, Epoch: 11, Current best: 0.8608333333333332, Global best: 0.865, Runtime: 0.34767 seconds\n",
      "2024/11/06 08:16:56 AM, INFO, mealpy.evolutionary_based.GA.BaseGA: >Problem: P, Epoch: 12, Current best: 0.8537500000000001, Global best: 0.865, Runtime: 0.35423 seconds\n",
      "2024/11/06 08:16:56 AM, INFO, mealpy.evolutionary_based.GA.BaseGA: >Problem: P, Epoch: 13, Current best: 0.865, Global best: 0.865, Runtime: 0.34845 seconds\n",
      "2024/11/06 08:16:57 AM, INFO, mealpy.evolutionary_based.GA.BaseGA: >Problem: P, Epoch: 14, Current best: 0.865, Global best: 0.865, Runtime: 0.34936 seconds\n",
      "2024/11/06 08:16:57 AM, INFO, mealpy.evolutionary_based.GA.BaseGA: >Problem: P, Epoch: 15, Current best: 0.8720833333333333, Global best: 0.8720833333333333, Runtime: 0.35882 seconds\n",
      "2024/11/06 08:16:57 AM, INFO, mealpy.evolutionary_based.GA.BaseGA: >Problem: P, Epoch: 16, Current best: 0.8537500000000001, Global best: 0.8720833333333333, Runtime: 0.34904 seconds\n",
      "2024/11/06 08:16:58 AM, INFO, mealpy.evolutionary_based.GA.BaseGA: >Problem: P, Epoch: 17, Current best: 0.8566666666666666, Global best: 0.8720833333333333, Runtime: 0.36379 seconds\n",
      "2024/11/06 08:16:58 AM, INFO, mealpy.evolutionary_based.GA.BaseGA: >Problem: P, Epoch: 18, Current best: 0.865, Global best: 0.8720833333333333, Runtime: 0.31457 seconds\n",
      "2024/11/06 08:16:58 AM, INFO, mealpy.evolutionary_based.GA.BaseGA: >Problem: P, Epoch: 19, Current best: 0.865, Global best: 0.8720833333333333, Runtime: 0.17798 seconds\n",
      "2024/11/06 08:16:58 AM, INFO, mealpy.evolutionary_based.GA.BaseGA: >Problem: P, Epoch: 20, Current best: 0.865, Global best: 0.8720833333333333, Runtime: 0.15604 seconds\n",
      "2024/11/06 08:16:59 AM, INFO, mealpy.evolutionary_based.GA.BaseGA: >Problem: P, Epoch: 21, Current best: 0.8691666666666666, Global best: 0.8720833333333333, Runtime: 0.32487 seconds\n",
      "2024/11/06 08:16:59 AM, INFO, mealpy.evolutionary_based.GA.BaseGA: >Problem: P, Epoch: 22, Current best: 0.8762500000000001, Global best: 0.8762500000000001, Runtime: 0.36723 seconds\n",
      "2024/11/06 08:17:00 AM, INFO, mealpy.evolutionary_based.GA.BaseGA: >Problem: P, Epoch: 23, Current best: 0.8762500000000001, Global best: 0.8762500000000001, Runtime: 0.37123 seconds\n",
      "2024/11/06 08:17:00 AM, INFO, mealpy.evolutionary_based.GA.BaseGA: >Problem: P, Epoch: 24, Current best: 0.8720833333333333, Global best: 0.8762500000000001, Runtime: 0.37427 seconds\n",
      "2024/11/06 08:17:00 AM, INFO, mealpy.evolutionary_based.GA.BaseGA: >Problem: P, Epoch: 25, Current best: 0.8762500000000001, Global best: 0.8762500000000001, Runtime: 0.36726 seconds\n",
      "2024/11/06 08:17:01 AM, INFO, mealpy.evolutionary_based.GA.BaseGA: >Problem: P, Epoch: 26, Current best: 0.8762500000000001, Global best: 0.8762500000000001, Runtime: 0.36501 seconds\n",
      "2024/11/06 08:17:01 AM, INFO, mealpy.evolutionary_based.GA.BaseGA: >Problem: P, Epoch: 27, Current best: 0.8762500000000001, Global best: 0.8762500000000001, Runtime: 0.35967 seconds\n",
      "2024/11/06 08:17:01 AM, INFO, mealpy.evolutionary_based.GA.BaseGA: >Problem: P, Epoch: 28, Current best: 0.8762500000000001, Global best: 0.8762500000000001, Runtime: 0.36859 seconds\n",
      "2024/11/06 08:17:02 AM, INFO, mealpy.evolutionary_based.GA.BaseGA: >Problem: P, Epoch: 29, Current best: 0.8762500000000001, Global best: 0.8762500000000001, Runtime: 0.36642 seconds\n",
      "2024/11/06 08:17:02 AM, INFO, mealpy.evolutionary_based.GA.BaseGA: >Problem: P, Epoch: 30, Current best: 0.8691666666666666, Global best: 0.8762500000000001, Runtime: 0.36951 seconds\n",
      "2024/11/06 08:17:02 AM, INFO, mealpy.evolutionary_based.GA.BaseGA: >Problem: P, Epoch: 31, Current best: 0.8720833333333333, Global best: 0.8762500000000001, Runtime: 0.35840 seconds\n",
      "2024/11/06 08:17:03 AM, INFO, mealpy.evolutionary_based.GA.BaseGA: >Problem: P, Epoch: 32, Current best: 0.8691666666666666, Global best: 0.8762500000000001, Runtime: 0.36493 seconds\n",
      "2024/11/06 08:17:03 AM, INFO, mealpy.evolutionary_based.GA.BaseGA: >Problem: P, Epoch: 33, Current best: 0.8691666666666666, Global best: 0.8762500000000001, Runtime: 0.36034 seconds\n",
      "2024/11/06 08:17:04 AM, INFO, mealpy.evolutionary_based.GA.BaseGA: >Problem: P, Epoch: 34, Current best: 0.8691666666666666, Global best: 0.8762500000000001, Runtime: 0.35968 seconds\n",
      "2024/11/06 08:17:04 AM, INFO, mealpy.evolutionary_based.GA.BaseGA: >Problem: P, Epoch: 35, Current best: 0.8691666666666666, Global best: 0.8762500000000001, Runtime: 0.36014 seconds\n",
      "2024/11/06 08:17:04 AM, INFO, mealpy.evolutionary_based.GA.BaseGA: >Problem: P, Epoch: 36, Current best: 0.8762500000000001, Global best: 0.8762500000000001, Runtime: 0.36060 seconds\n",
      "2024/11/06 08:17:05 AM, INFO, mealpy.evolutionary_based.GA.BaseGA: >Problem: P, Epoch: 37, Current best: 0.8762500000000001, Global best: 0.8762500000000001, Runtime: 0.35582 seconds\n",
      "2024/11/06 08:17:05 AM, INFO, mealpy.evolutionary_based.GA.BaseGA: >Problem: P, Epoch: 38, Current best: 0.8762500000000001, Global best: 0.8762500000000001, Runtime: 0.36823 seconds\n",
      "2024/11/06 08:17:05 AM, INFO, mealpy.evolutionary_based.GA.BaseGA: >Problem: P, Epoch: 39, Current best: 0.8762500000000001, Global best: 0.8762500000000001, Runtime: 0.36518 seconds\n",
      "2024/11/06 08:17:06 AM, INFO, mealpy.evolutionary_based.GA.BaseGA: >Problem: P, Epoch: 40, Current best: 0.8762500000000001, Global best: 0.8762500000000001, Runtime: 0.36765 seconds\n",
      "2024/11/06 08:17:06 AM, INFO, mealpy.evolutionary_based.GA.BaseGA: >Problem: P, Epoch: 41, Current best: 0.8762500000000001, Global best: 0.8762500000000001, Runtime: 0.36656 seconds\n",
      "2024/11/06 08:17:06 AM, INFO, mealpy.evolutionary_based.GA.BaseGA: >Problem: P, Epoch: 42, Current best: 0.8762500000000001, Global best: 0.8762500000000001, Runtime: 0.35460 seconds\n",
      "2024/11/06 08:17:07 AM, INFO, mealpy.evolutionary_based.GA.BaseGA: >Problem: P, Epoch: 43, Current best: 0.8762500000000001, Global best: 0.8762500000000001, Runtime: 0.36099 seconds\n",
      "2024/11/06 08:17:07 AM, INFO, mealpy.evolutionary_based.GA.BaseGA: >Problem: P, Epoch: 44, Current best: 0.8762500000000001, Global best: 0.8762500000000001, Runtime: 0.37062 seconds\n",
      "2024/11/06 08:17:08 AM, INFO, mealpy.evolutionary_based.GA.BaseGA: >Problem: P, Epoch: 45, Current best: 0.8762500000000001, Global best: 0.8762500000000001, Runtime: 0.36233 seconds\n",
      "2024/11/06 08:17:08 AM, INFO, mealpy.evolutionary_based.GA.BaseGA: >Problem: P, Epoch: 46, Current best: 0.8762500000000001, Global best: 0.8762500000000001, Runtime: 0.36305 seconds\n",
      "2024/11/06 08:17:08 AM, INFO, mealpy.evolutionary_based.GA.BaseGA: >Problem: P, Epoch: 47, Current best: 0.8762500000000001, Global best: 0.8762500000000001, Runtime: 0.37794 seconds\n",
      "2024/11/06 08:17:09 AM, INFO, mealpy.evolutionary_based.GA.BaseGA: >Problem: P, Epoch: 48, Current best: 0.8762500000000001, Global best: 0.8762500000000001, Runtime: 0.37363 seconds\n",
      "2024/11/06 08:17:09 AM, INFO, mealpy.evolutionary_based.GA.BaseGA: >Problem: P, Epoch: 49, Current best: 0.8762500000000001, Global best: 0.8762500000000001, Runtime: 0.36983 seconds\n",
      "2024/11/06 08:17:09 AM, INFO, mealpy.evolutionary_based.GA.BaseGA: >Problem: P, Epoch: 50, Current best: 0.8762500000000001, Global best: 0.8762500000000001, Runtime: 0.36818 seconds\n",
      "2024/11/06 08:17:10 AM, INFO, mealpy.evolutionary_based.GA.BaseGA: >Problem: P, Epoch: 51, Current best: 0.8762500000000001, Global best: 0.8762500000000001, Runtime: 0.35945 seconds\n",
      "2024/11/06 08:17:10 AM, INFO, mealpy.evolutionary_based.GA.BaseGA: >Problem: P, Epoch: 52, Current best: 0.8762500000000001, Global best: 0.8762500000000001, Runtime: 0.36189 seconds\n",
      "2024/11/06 08:17:11 AM, INFO, mealpy.evolutionary_based.GA.BaseGA: >Problem: P, Epoch: 53, Current best: 0.8762500000000001, Global best: 0.8762500000000001, Runtime: 0.35621 seconds\n",
      "2024/11/06 08:17:11 AM, INFO, mealpy.evolutionary_based.GA.BaseGA: >Problem: P, Epoch: 54, Current best: 0.8762500000000001, Global best: 0.8762500000000001, Runtime: 0.35678 seconds\n",
      "2024/11/06 08:17:11 AM, INFO, mealpy.evolutionary_based.GA.BaseGA: >Problem: P, Epoch: 55, Current best: 0.8762500000000001, Global best: 0.8762500000000001, Runtime: 0.35593 seconds\n",
      "2024/11/06 08:17:12 AM, INFO, mealpy.evolutionary_based.GA.BaseGA: >Problem: P, Epoch: 56, Current best: 0.8762500000000001, Global best: 0.8762500000000001, Runtime: 0.34664 seconds\n",
      "2024/11/06 08:17:12 AM, INFO, mealpy.evolutionary_based.GA.BaseGA: >Problem: P, Epoch: 57, Current best: 0.8762500000000001, Global best: 0.8762500000000001, Runtime: 0.34600 seconds\n",
      "2024/11/06 08:17:12 AM, INFO, mealpy.evolutionary_based.GA.BaseGA: >Problem: P, Epoch: 58, Current best: 0.8762500000000001, Global best: 0.8762500000000001, Runtime: 0.35941 seconds\n",
      "2024/11/06 08:17:13 AM, INFO, mealpy.evolutionary_based.GA.BaseGA: >Problem: P, Epoch: 59, Current best: 0.8762500000000001, Global best: 0.8762500000000001, Runtime: 0.28053 seconds\n",
      "2024/11/06 08:17:13 AM, INFO, mealpy.evolutionary_based.GA.BaseGA: >Problem: P, Epoch: 60, Current best: 0.8762500000000001, Global best: 0.8762500000000001, Runtime: 0.17475 seconds\n",
      "2024/11/06 08:17:13 AM, INFO, mealpy.evolutionary_based.GA.BaseGA: >Problem: P, Epoch: 61, Current best: 0.8762500000000001, Global best: 0.8762500000000001, Runtime: 0.15587 seconds\n",
      "2024/11/06 08:17:13 AM, INFO, mealpy.evolutionary_based.GA.BaseGA: >Problem: P, Epoch: 62, Current best: 0.8762500000000001, Global best: 0.8762500000000001, Runtime: 0.16164 seconds\n",
      "2024/11/06 08:17:13 AM, INFO, mealpy.evolutionary_based.GA.BaseGA: >Problem: P, Epoch: 63, Current best: 0.8762500000000001, Global best: 0.8762500000000001, Runtime: 0.26845 seconds\n",
      "2024/11/06 08:17:14 AM, INFO, mealpy.evolutionary_based.GA.BaseGA: >Problem: P, Epoch: 64, Current best: 0.8762500000000001, Global best: 0.8762500000000001, Runtime: 0.36135 seconds\n",
      "2024/11/06 08:17:14 AM, INFO, mealpy.evolutionary_based.GA.BaseGA: >Problem: P, Epoch: 65, Current best: 0.8762500000000001, Global best: 0.8762500000000001, Runtime: 0.35249 seconds\n",
      "2024/11/06 08:17:14 AM, INFO, mealpy.evolutionary_based.GA.BaseGA: >Problem: P, Epoch: 66, Current best: 0.8762500000000001, Global best: 0.8762500000000001, Runtime: 0.36660 seconds\n",
      "2024/11/06 08:17:15 AM, INFO, mealpy.evolutionary_based.GA.BaseGA: >Problem: P, Epoch: 67, Current best: 0.8762500000000001, Global best: 0.8762500000000001, Runtime: 0.36715 seconds\n",
      "2024/11/06 08:17:15 AM, INFO, mealpy.evolutionary_based.GA.BaseGA: >Problem: P, Epoch: 68, Current best: 0.8762500000000001, Global best: 0.8762500000000001, Runtime: 0.35186 seconds\n",
      "2024/11/06 08:17:16 AM, INFO, mealpy.evolutionary_based.GA.BaseGA: >Problem: P, Epoch: 69, Current best: 0.8762500000000001, Global best: 0.8762500000000001, Runtime: 0.35815 seconds\n",
      "2024/11/06 08:17:16 AM, INFO, mealpy.evolutionary_based.GA.BaseGA: >Problem: P, Epoch: 70, Current best: 0.8762500000000001, Global best: 0.8762500000000001, Runtime: 0.36057 seconds\n",
      "2024/11/06 08:17:16 AM, INFO, mealpy.evolutionary_based.GA.BaseGA: >Problem: P, Epoch: 71, Current best: 0.8762500000000001, Global best: 0.8762500000000001, Runtime: 0.35241 seconds\n",
      "2024/11/06 08:17:17 AM, INFO, mealpy.evolutionary_based.GA.BaseGA: >Problem: P, Epoch: 72, Current best: 0.8762500000000001, Global best: 0.8762500000000001, Runtime: 0.34858 seconds\n",
      "2024/11/06 08:17:17 AM, INFO, mealpy.evolutionary_based.GA.BaseGA: >Problem: P, Epoch: 73, Current best: 0.8762500000000001, Global best: 0.8762500000000001, Runtime: 0.35019 seconds\n",
      "2024/11/06 08:17:17 AM, INFO, mealpy.evolutionary_based.GA.BaseGA: >Problem: P, Epoch: 74, Current best: 0.8762500000000001, Global best: 0.8762500000000001, Runtime: 0.35450 seconds\n",
      "2024/11/06 08:17:18 AM, INFO, mealpy.evolutionary_based.GA.BaseGA: >Problem: P, Epoch: 75, Current best: 0.8762500000000001, Global best: 0.8762500000000001, Runtime: 0.34982 seconds\n",
      "2024/11/06 08:17:18 AM, INFO, mealpy.evolutionary_based.GA.BaseGA: >Problem: P, Epoch: 76, Current best: 0.8762500000000001, Global best: 0.8762500000000001, Runtime: 0.34723 seconds\n",
      "2024/11/06 08:17:18 AM, INFO, mealpy.evolutionary_based.GA.BaseGA: >Problem: P, Epoch: 77, Current best: 0.8762500000000001, Global best: 0.8762500000000001, Runtime: 0.35313 seconds\n",
      "2024/11/06 08:17:19 AM, INFO, mealpy.evolutionary_based.GA.BaseGA: >Problem: P, Epoch: 78, Current best: 0.8762500000000001, Global best: 0.8762500000000001, Runtime: 0.34670 seconds\n",
      "2024/11/06 08:17:19 AM, INFO, mealpy.evolutionary_based.GA.BaseGA: >Problem: P, Epoch: 79, Current best: 0.8762500000000001, Global best: 0.8762500000000001, Runtime: 0.35098 seconds\n",
      "2024/11/06 08:17:19 AM, INFO, mealpy.evolutionary_based.GA.BaseGA: >Problem: P, Epoch: 80, Current best: 0.8762500000000001, Global best: 0.8762500000000001, Runtime: 0.35112 seconds\n",
      "2024/11/06 08:17:20 AM, INFO, mealpy.evolutionary_based.GA.BaseGA: >Problem: P, Epoch: 81, Current best: 0.8762500000000001, Global best: 0.8762500000000001, Runtime: 0.34993 seconds\n",
      "2024/11/06 08:17:20 AM, INFO, mealpy.evolutionary_based.GA.BaseGA: >Problem: P, Epoch: 82, Current best: 0.8762500000000001, Global best: 0.8762500000000001, Runtime: 0.34835 seconds\n",
      "2024/11/06 08:17:20 AM, INFO, mealpy.evolutionary_based.GA.BaseGA: >Problem: P, Epoch: 83, Current best: 0.8762500000000001, Global best: 0.8762500000000001, Runtime: 0.34935 seconds\n",
      "2024/11/06 08:17:21 AM, INFO, mealpy.evolutionary_based.GA.BaseGA: >Problem: P, Epoch: 84, Current best: 0.8762500000000001, Global best: 0.8762500000000001, Runtime: 0.35358 seconds\n",
      "2024/11/06 08:17:21 AM, INFO, mealpy.evolutionary_based.GA.BaseGA: >Problem: P, Epoch: 85, Current best: 0.8762500000000001, Global best: 0.8762500000000001, Runtime: 0.34764 seconds\n",
      "2024/11/06 08:17:22 AM, INFO, mealpy.evolutionary_based.GA.BaseGA: >Problem: P, Epoch: 86, Current best: 0.8762500000000001, Global best: 0.8762500000000001, Runtime: 0.34956 seconds\n",
      "2024/11/06 08:17:22 AM, INFO, mealpy.evolutionary_based.GA.BaseGA: >Problem: P, Epoch: 87, Current best: 0.8762500000000001, Global best: 0.8762500000000001, Runtime: 0.34990 seconds\n",
      "2024/11/06 08:17:22 AM, INFO, mealpy.evolutionary_based.GA.BaseGA: >Problem: P, Epoch: 88, Current best: 0.8762500000000001, Global best: 0.8762500000000001, Runtime: 0.34652 seconds\n",
      "2024/11/06 08:17:23 AM, INFO, mealpy.evolutionary_based.GA.BaseGA: >Problem: P, Epoch: 89, Current best: 0.8762500000000001, Global best: 0.8762500000000001, Runtime: 0.35785 seconds\n",
      "2024/11/06 08:17:23 AM, INFO, mealpy.evolutionary_based.GA.BaseGA: >Problem: P, Epoch: 90, Current best: 0.8762500000000001, Global best: 0.8762500000000001, Runtime: 0.34604 seconds\n",
      "2024/11/06 08:17:23 AM, INFO, mealpy.evolutionary_based.GA.BaseGA: >Problem: P, Epoch: 91, Current best: 0.8762500000000001, Global best: 0.8762500000000001, Runtime: 0.34961 seconds\n",
      "2024/11/06 08:17:24 AM, INFO, mealpy.evolutionary_based.GA.BaseGA: >Problem: P, Epoch: 92, Current best: 0.8762500000000001, Global best: 0.8762500000000001, Runtime: 0.35060 seconds\n",
      "2024/11/06 08:17:24 AM, INFO, mealpy.evolutionary_based.GA.BaseGA: >Problem: P, Epoch: 93, Current best: 0.8762500000000001, Global best: 0.8762500000000001, Runtime: 0.34765 seconds\n",
      "2024/11/06 08:17:24 AM, INFO, mealpy.evolutionary_based.GA.BaseGA: >Problem: P, Epoch: 94, Current best: 0.8762500000000001, Global best: 0.8762500000000001, Runtime: 0.34851 seconds\n",
      "2024/11/06 08:17:25 AM, INFO, mealpy.evolutionary_based.GA.BaseGA: >Problem: P, Epoch: 95, Current best: 0.8762500000000001, Global best: 0.8762500000000001, Runtime: 0.35486 seconds\n",
      "2024/11/06 08:17:25 AM, INFO, mealpy.evolutionary_based.GA.BaseGA: >Problem: P, Epoch: 96, Current best: 0.8762500000000001, Global best: 0.8762500000000001, Runtime: 0.34792 seconds\n",
      "2024/11/06 08:17:25 AM, INFO, mealpy.evolutionary_based.GA.BaseGA: >Problem: P, Epoch: 97, Current best: 0.8762500000000001, Global best: 0.8762500000000001, Runtime: 0.35283 seconds\n",
      "2024/11/06 08:17:26 AM, INFO, mealpy.evolutionary_based.GA.BaseGA: >Problem: P, Epoch: 98, Current best: 0.8762500000000001, Global best: 0.8762500000000001, Runtime: 0.34595 seconds\n",
      "2024/11/06 08:17:26 AM, INFO, mealpy.evolutionary_based.GA.BaseGA: >Problem: P, Epoch: 99, Current best: 0.8762500000000001, Global best: 0.8762500000000001, Runtime: 0.34678 seconds\n",
      "2024/11/06 08:17:26 AM, INFO, mealpy.evolutionary_based.GA.BaseGA: >Problem: P, Epoch: 100, Current best: 0.8762500000000001, Global best: 0.8762500000000001, Runtime: 0.34996 seconds\n"
     ]
    },
    {
     "name": "stdout",
     "output_type": "stream",
     "text": [
      "[False False False  True False  True False False  True False False False\n",
      " False False False False False False False False False False False False]\n",
      "[0 0 0 1 0 1 0 0 1 0 0 0 0 0 0 0 0 0 0 0 0 0 0 0]\n",
      "[3 5 8]\n"
     ]
    }
   ],
   "source": [
    "from mafese.wrapper.mha import MhaSelector\n",
    "from sklearn.svm import SVC\n",
    "from sklearn.metrics import accuracy_score\n",
    "from mafese import Data\n",
    "import pandas as pd\n",
    "import numpy as np\n",
    "\n",
    "df = pd.read_csv('new_kidney_disease.csv')\n",
    "X = df.iloc[:, :-1]\n",
    "y = df.iloc[:, -1]\n",
    "data = Data(X,y)\n",
    "data.split_train_test(test_size=0.2)\n",
    "print(data.X_train.shape, data.X_test.shape)  \n",
    "X_train = np.array(data.X_train)\n",
    "X_test = np.array(data.X_test)\n",
    "y_train = np.array(data.y_train)\n",
    "y_test = np.array(data.y_test)\n",
    "\n",
    "feat_selector = MhaSelector(problem=\"classification\", estimator=\"knn\",\n",
    "                            optimizer=\"BaseGA\", optimizer_paras=None,\n",
    "                            transfer_func=\"vstf_01\", obj_name=\"AS\")\n",
    "\n",
    "feat_selector.fit(X_train, y_train, fit_weights=(0.9, 0.1), verbose=True)\n",
    "\n",
    "print(feat_selector.selected_feature_masks)\n",
    "print(feat_selector.selected_feature_solution)\n",
    "\n",
    "print(feat_selector.selected_feature_indexes)"
   ]
  },
  {
   "cell_type": "code",
   "execution_count": 150,
   "id": "ab9385ee",
   "metadata": {},
   "outputs": [
    {
     "name": "stdout",
     "output_type": "stream",
     "text": [
      "Selected Features Accuracy: 0.95\n"
     ]
    }
   ],
   "source": [
    "selected_feature_indices = feat_selector.selected_feature_indexes\n",
    "\n",
    "X_train_selected = data.X_train.iloc[:, selected_feature_indices]\n",
    "X_test_selected = data.X_test.iloc[:, selected_feature_indices]\n",
    "\n",
    "model = XGBClassifier()\n",
    "model.fit(X_train_selected, data.y_train)\n",
    "\n",
    "\n",
    "y_pred = model.predict(X_test_selected)\n",
    "accuracy = accuracy_score(data.y_test, y_pred)\n",
    "\n",
    "print(\"Selected Features Accuracy:\", accuracy)"
   ]
  },
  {
   "cell_type": "markdown",
   "id": "c8b244af",
   "metadata": {},
   "source": [
    "###### Accuracy For MhaSelector is 95%"
   ]
  },
  {
   "cell_type": "code",
   "execution_count": null,
   "id": "99e421f5",
   "metadata": {},
   "outputs": [],
   "source": []
  },
  {
   "cell_type": "code",
   "execution_count": 151,
   "id": "de29f481",
   "metadata": {},
   "outputs": [
    {
     "name": "stderr",
     "output_type": "stream",
     "text": [
      "2024/11/06 08:17:27 AM, INFO, mealpy.swarm_based.WOA.OriginalWOA: Solving 2-objective optimization problem with weights: [1. 0.].\n",
      "2024/11/06 08:17:44 AM, INFO, mealpy.swarm_based.WOA.OriginalWOA: >Problem: P, Epoch: 1, Current best: 0.8316666666666666, Global best: 0.8316666666666666, Runtime: 8.54954 seconds\n",
      "2024/11/06 08:17:51 AM, INFO, mealpy.swarm_based.WOA.OriginalWOA: >Problem: P, Epoch: 2, Current best: 0.8512500000000001, Global best: 0.8512500000000001, Runtime: 7.46719 seconds\n",
      "2024/11/06 08:18:00 AM, INFO, mealpy.swarm_based.WOA.OriginalWOA: >Problem: P, Epoch: 3, Current best: 0.8625, Global best: 0.8625, Runtime: 8.92968 seconds\n",
      "2024/11/06 08:18:06 AM, INFO, mealpy.swarm_based.WOA.OriginalWOA: >Problem: P, Epoch: 4, Current best: 0.8666666666666667, Global best: 0.8666666666666667, Runtime: 5.75072 seconds\n",
      "2024/11/06 08:18:13 AM, INFO, mealpy.swarm_based.WOA.OriginalWOA: >Problem: P, Epoch: 5, Current best: 0.8666666666666667, Global best: 0.8666666666666667, Runtime: 6.72066 seconds\n",
      "2024/11/06 08:18:18 AM, INFO, mealpy.swarm_based.WOA.OriginalWOA: >Problem: P, Epoch: 6, Current best: 0.8666666666666667, Global best: 0.8666666666666667, Runtime: 5.35070 seconds\n",
      "2024/11/06 08:18:23 AM, INFO, mealpy.swarm_based.WOA.OriginalWOA: >Problem: P, Epoch: 7, Current best: 0.8708333333333333, Global best: 0.8708333333333333, Runtime: 4.84136 seconds\n",
      "2024/11/06 08:18:28 AM, INFO, mealpy.swarm_based.WOA.OriginalWOA: >Problem: P, Epoch: 8, Current best: 0.8791666666666667, Global best: 0.8791666666666667, Runtime: 5.04638 seconds\n",
      "2024/11/06 08:18:33 AM, INFO, mealpy.swarm_based.WOA.OriginalWOA: >Problem: P, Epoch: 9, Current best: 0.8791666666666667, Global best: 0.8791666666666667, Runtime: 4.86851 seconds\n",
      "2024/11/06 08:18:37 AM, INFO, mealpy.swarm_based.WOA.OriginalWOA: >Problem: P, Epoch: 10, Current best: 0.8791666666666667, Global best: 0.8791666666666667, Runtime: 4.40397 seconds\n",
      "2024/11/06 08:18:37 AM, INFO, mealpy.swarm_based.WOA.OriginalWOA: Solving 2-objective optimization problem with weights: [1. 0.].\n"
     ]
    },
    {
     "name": "stdout",
     "output_type": "stream",
     "text": [
      "Solving problem: P using algorithm: OriginalWOA, on the: 1 trial, with best fitness: 0.8791666666666667\n"
     ]
    },
    {
     "name": "stderr",
     "output_type": "stream",
     "text": [
      "2024/11/06 08:18:54 AM, INFO, mealpy.swarm_based.WOA.OriginalWOA: >Problem: P, Epoch: 1, Current best: 0.8608333333333332, Global best: 0.8608333333333332, Runtime: 8.77664 seconds\n",
      "2024/11/06 08:19:01 AM, INFO, mealpy.swarm_based.WOA.OriginalWOA: >Problem: P, Epoch: 2, Current best: 0.8608333333333332, Global best: 0.8608333333333332, Runtime: 7.16892 seconds\n",
      "2024/11/06 08:19:11 AM, INFO, mealpy.swarm_based.WOA.OriginalWOA: >Problem: P, Epoch: 3, Current best: 0.8679166666666667, Global best: 0.8679166666666667, Runtime: 9.08917 seconds\n",
      "2024/11/06 08:19:17 AM, INFO, mealpy.swarm_based.WOA.OriginalWOA: >Problem: P, Epoch: 4, Current best: 0.8679166666666667, Global best: 0.8679166666666667, Runtime: 5.97417 seconds\n",
      "2024/11/06 08:19:22 AM, INFO, mealpy.swarm_based.WOA.OriginalWOA: >Problem: P, Epoch: 5, Current best: 0.8762500000000001, Global best: 0.8762500000000001, Runtime: 5.59122 seconds\n",
      "2024/11/06 08:19:27 AM, INFO, mealpy.swarm_based.WOA.OriginalWOA: >Problem: P, Epoch: 6, Current best: 0.8762500000000001, Global best: 0.8762500000000001, Runtime: 4.69919 seconds\n",
      "2024/11/06 08:19:31 AM, INFO, mealpy.swarm_based.WOA.OriginalWOA: >Problem: P, Epoch: 7, Current best: 0.8762500000000001, Global best: 0.8762500000000001, Runtime: 4.41678 seconds\n",
      "2024/11/06 08:19:36 AM, INFO, mealpy.swarm_based.WOA.OriginalWOA: >Problem: P, Epoch: 8, Current best: 0.8762500000000001, Global best: 0.8762500000000001, Runtime: 4.34621 seconds\n",
      "2024/11/06 08:19:40 AM, INFO, mealpy.swarm_based.WOA.OriginalWOA: >Problem: P, Epoch: 9, Current best: 0.8762500000000001, Global best: 0.8762500000000001, Runtime: 4.25011 seconds\n",
      "2024/11/06 08:19:44 AM, INFO, mealpy.swarm_based.WOA.OriginalWOA: >Problem: P, Epoch: 10, Current best: 0.8762500000000001, Global best: 0.8762500000000001, Runtime: 4.20736 seconds\n",
      "2024/11/06 08:19:44 AM, INFO, mealpy.swarm_based.GWO.OriginalGWO: Solving 2-objective optimization problem with weights: [1. 0.].\n"
     ]
    },
    {
     "name": "stdout",
     "output_type": "stream",
     "text": [
      "Solving problem: P using algorithm: OriginalWOA, on the: 2 trial, with best fitness: 0.8762500000000001\n"
     ]
    },
    {
     "name": "stderr",
     "output_type": "stream",
     "text": [
      "2024/11/06 08:19:59 AM, INFO, mealpy.swarm_based.GWO.OriginalGWO: >Problem: P, Epoch: 1, Current best: 0.8375, Global best: 0.8375, Runtime: 6.89357 seconds\n",
      "2024/11/06 08:20:06 AM, INFO, mealpy.swarm_based.GWO.OriginalGWO: >Problem: P, Epoch: 2, Current best: 0.85, Global best: 0.85, Runtime: 6.32530 seconds\n",
      "2024/11/06 08:20:12 AM, INFO, mealpy.swarm_based.GWO.OriginalGWO: >Problem: P, Epoch: 3, Current best: 0.8583333333333334, Global best: 0.8583333333333334, Runtime: 6.22104 seconds\n",
      "2024/11/06 08:20:18 AM, INFO, mealpy.swarm_based.GWO.OriginalGWO: >Problem: P, Epoch: 4, Current best: 0.8583333333333334, Global best: 0.8583333333333334, Runtime: 6.08453 seconds\n",
      "2024/11/06 08:20:23 AM, INFO, mealpy.swarm_based.GWO.OriginalGWO: >Problem: P, Epoch: 5, Current best: 0.8666666666666667, Global best: 0.8666666666666667, Runtime: 5.61559 seconds\n",
      "2024/11/06 08:20:29 AM, INFO, mealpy.swarm_based.GWO.OriginalGWO: >Problem: P, Epoch: 6, Current best: 0.8708333333333333, Global best: 0.8708333333333333, Runtime: 5.66548 seconds\n",
      "2024/11/06 08:20:34 AM, INFO, mealpy.swarm_based.GWO.OriginalGWO: >Problem: P, Epoch: 7, Current best: 0.875, Global best: 0.875, Runtime: 5.10376 seconds\n",
      "2024/11/06 08:20:39 AM, INFO, mealpy.swarm_based.GWO.OriginalGWO: >Problem: P, Epoch: 8, Current best: 0.8791666666666667, Global best: 0.8791666666666667, Runtime: 4.82575 seconds\n",
      "2024/11/06 08:20:44 AM, INFO, mealpy.swarm_based.GWO.OriginalGWO: >Problem: P, Epoch: 9, Current best: 0.8833333333333333, Global best: 0.8833333333333333, Runtime: 4.46042 seconds\n",
      "2024/11/06 08:20:48 AM, INFO, mealpy.swarm_based.GWO.OriginalGWO: >Problem: P, Epoch: 10, Current best: 0.8833333333333333, Global best: 0.8833333333333333, Runtime: 4.42734 seconds\n",
      "2024/11/06 08:20:48 AM, INFO, mealpy.swarm_based.GWO.OriginalGWO: Solving 2-objective optimization problem with weights: [1. 0.].\n"
     ]
    },
    {
     "name": "stdout",
     "output_type": "stream",
     "text": [
      "Solving problem: P using algorithm: OriginalGWO, on the: 1 trial, with best fitness: 0.8833333333333333\n"
     ]
    },
    {
     "name": "stderr",
     "output_type": "stream",
     "text": [
      "2024/11/06 08:21:03 AM, INFO, mealpy.swarm_based.GWO.OriginalGWO: >Problem: P, Epoch: 1, Current best: 0.82625, Global best: 0.82625, Runtime: 7.05971 seconds\n",
      "2024/11/06 08:21:10 AM, INFO, mealpy.swarm_based.GWO.OriginalGWO: >Problem: P, Epoch: 2, Current best: 0.8416666666666667, Global best: 0.8416666666666667, Runtime: 6.42079 seconds\n",
      "2024/11/06 08:21:16 AM, INFO, mealpy.swarm_based.GWO.OriginalGWO: >Problem: P, Epoch: 3, Current best: 0.8512500000000001, Global best: 0.8512500000000001, Runtime: 5.88349 seconds\n",
      "2024/11/06 08:21:21 AM, INFO, mealpy.swarm_based.GWO.OriginalGWO: >Problem: P, Epoch: 4, Current best: 0.8554166666666667, Global best: 0.8554166666666667, Runtime: 5.65435 seconds\n",
      "2024/11/06 08:21:26 AM, INFO, mealpy.swarm_based.GWO.OriginalGWO: >Problem: P, Epoch: 5, Current best: 0.875, Global best: 0.875, Runtime: 5.07646 seconds\n",
      "2024/11/06 08:21:31 AM, INFO, mealpy.swarm_based.GWO.OriginalGWO: >Problem: P, Epoch: 6, Current best: 0.8791666666666667, Global best: 0.8791666666666667, Runtime: 4.38478 seconds\n",
      "2024/11/06 08:21:36 AM, INFO, mealpy.swarm_based.GWO.OriginalGWO: >Problem: P, Epoch: 7, Current best: 0.8791666666666667, Global best: 0.8791666666666667, Runtime: 4.84382 seconds\n",
      "2024/11/06 08:21:40 AM, INFO, mealpy.swarm_based.GWO.OriginalGWO: >Problem: P, Epoch: 8, Current best: 0.8833333333333333, Global best: 0.8833333333333333, Runtime: 4.71190 seconds\n",
      "2024/11/06 08:21:45 AM, INFO, mealpy.swarm_based.GWO.OriginalGWO: >Problem: P, Epoch: 9, Current best: 0.8833333333333333, Global best: 0.8833333333333333, Runtime: 4.44376 seconds\n",
      "2024/11/06 08:21:49 AM, INFO, mealpy.swarm_based.GWO.OriginalGWO: >Problem: P, Epoch: 10, Current best: 0.8833333333333333, Global best: 0.8833333333333333, Runtime: 4.50413 seconds\n",
      "2024/11/06 08:21:49 AM, INFO, mealpy.human_based.TLO.OriginalTLO: Solving 2-objective optimization problem with weights: [1. 0.].\n"
     ]
    },
    {
     "name": "stdout",
     "output_type": "stream",
     "text": [
      "Solving problem: P using algorithm: OriginalGWO, on the: 2 trial, with best fitness: 0.8833333333333333\n"
     ]
    },
    {
     "name": "stderr",
     "output_type": "stream",
     "text": [
      "2024/11/06 08:22:11 AM, INFO, mealpy.human_based.TLO.OriginalTLO: >Problem: P, Epoch: 1, Current best: 0.8470833333333334, Global best: 0.8470833333333334, Runtime: 13.49703 seconds\n",
      "2024/11/06 08:22:23 AM, INFO, mealpy.human_based.TLO.OriginalTLO: >Problem: P, Epoch: 2, Current best: 0.8595833333333334, Global best: 0.8595833333333334, Runtime: 11.27780 seconds\n",
      "2024/11/06 08:22:34 AM, INFO, mealpy.human_based.TLO.OriginalTLO: >Problem: P, Epoch: 3, Current best: 0.8595833333333334, Global best: 0.8595833333333334, Runtime: 11.58154 seconds\n",
      "2024/11/06 08:31:18 AM, INFO, mealpy.human_based.TLO.OriginalTLO: >Problem: P, Epoch: 4, Current best: 0.8708333333333333, Global best: 0.8708333333333333, Runtime: 524.27967 seconds\n",
      "2024/11/06 08:31:29 AM, INFO, mealpy.human_based.TLO.OriginalTLO: >Problem: P, Epoch: 5, Current best: 0.8708333333333333, Global best: 0.8708333333333333, Runtime: 11.05047 seconds\n",
      "2024/11/06 08:31:41 AM, INFO, mealpy.human_based.TLO.OriginalTLO: >Problem: P, Epoch: 6, Current best: 0.8708333333333333, Global best: 0.8708333333333333, Runtime: 11.37387 seconds\n",
      "2024/11/06 08:31:51 AM, INFO, mealpy.human_based.TLO.OriginalTLO: >Problem: P, Epoch: 7, Current best: 0.8708333333333333, Global best: 0.8708333333333333, Runtime: 10.66292 seconds\n",
      "2024/11/06 08:32:03 AM, INFO, mealpy.human_based.TLO.OriginalTLO: >Problem: P, Epoch: 8, Current best: 0.8708333333333333, Global best: 0.8708333333333333, Runtime: 11.08584 seconds\n",
      "2024/11/06 08:32:13 AM, INFO, mealpy.human_based.TLO.OriginalTLO: >Problem: P, Epoch: 9, Current best: 0.875, Global best: 0.875, Runtime: 10.75788 seconds\n",
      "2024/11/06 08:32:24 AM, INFO, mealpy.human_based.TLO.OriginalTLO: >Problem: P, Epoch: 10, Current best: 0.875, Global best: 0.875, Runtime: 10.77110 seconds\n",
      "2024/11/06 08:32:24 AM, INFO, mealpy.human_based.TLO.OriginalTLO: Solving 2-objective optimization problem with weights: [1. 0.].\n"
     ]
    },
    {
     "name": "stdout",
     "output_type": "stream",
     "text": [
      "Solving problem: P using algorithm: OriginalTLO, on the: 1 trial, with best fitness: 0.875\n"
     ]
    },
    {
     "name": "stderr",
     "output_type": "stream",
     "text": [
      "2024/11/06 08:32:46 AM, INFO, mealpy.human_based.TLO.OriginalTLO: >Problem: P, Epoch: 1, Current best: 0.8470833333333334, Global best: 0.8470833333333334, Runtime: 13.75856 seconds\n",
      "2024/11/06 08:32:59 AM, INFO, mealpy.human_based.TLO.OriginalTLO: >Problem: P, Epoch: 2, Current best: 0.8512500000000001, Global best: 0.8512500000000001, Runtime: 12.12907 seconds\n",
      "2024/11/06 08:33:11 AM, INFO, mealpy.human_based.TLO.OriginalTLO: >Problem: P, Epoch: 3, Current best: 0.8625, Global best: 0.8625, Runtime: 11.90390 seconds\n",
      "2024/11/06 08:33:22 AM, INFO, mealpy.human_based.TLO.OriginalTLO: >Problem: P, Epoch: 4, Current best: 0.8625, Global best: 0.8625, Runtime: 11.23706 seconds\n",
      "2024/11/06 08:33:33 AM, INFO, mealpy.human_based.TLO.OriginalTLO: >Problem: P, Epoch: 5, Current best: 0.8625, Global best: 0.8625, Runtime: 11.15321 seconds\n",
      "2024/11/06 08:33:44 AM, INFO, mealpy.human_based.TLO.OriginalTLO: >Problem: P, Epoch: 6, Current best: 0.86375, Global best: 0.86375, Runtime: 10.65314 seconds\n",
      "2024/11/06 08:33:54 AM, INFO, mealpy.human_based.TLO.OriginalTLO: >Problem: P, Epoch: 7, Current best: 0.86375, Global best: 0.86375, Runtime: 10.63533 seconds\n",
      "2024/11/06 08:34:05 AM, INFO, mealpy.human_based.TLO.OriginalTLO: >Problem: P, Epoch: 8, Current best: 0.86375, Global best: 0.86375, Runtime: 10.40315 seconds\n",
      "2024/11/06 08:34:15 AM, INFO, mealpy.human_based.TLO.OriginalTLO: >Problem: P, Epoch: 9, Current best: 0.86375, Global best: 0.86375, Runtime: 10.54258 seconds\n",
      "2024/11/06 08:34:26 AM, INFO, mealpy.human_based.TLO.OriginalTLO: >Problem: P, Epoch: 10, Current best: 0.8720833333333333, Global best: 0.8720833333333333, Runtime: 10.46333 seconds\n",
      "2024/11/06 08:34:26 AM, INFO, mealpy.human_based.GSKA.OriginalGSKA: Solving 2-objective optimization problem with weights: [1. 0.].\n"
     ]
    },
    {
     "name": "stdout",
     "output_type": "stream",
     "text": [
      "Solving problem: P using algorithm: OriginalTLO, on the: 2 trial, with best fitness: 0.8720833333333333\n"
     ]
    },
    {
     "name": "stderr",
     "output_type": "stream",
     "text": [
      "2024/11/06 08:34:40 AM, INFO, mealpy.human_based.GSKA.OriginalGSKA: >Problem: P, Epoch: 1, Current best: 0.8470833333333334, Global best: 0.8470833333333334, Runtime: 5.69696 seconds\n",
      "2024/11/06 08:34:45 AM, INFO, mealpy.human_based.GSKA.OriginalGSKA: >Problem: P, Epoch: 2, Current best: 0.8625, Global best: 0.8625, Runtime: 4.95762 seconds\n",
      "2024/11/06 08:34:49 AM, INFO, mealpy.human_based.GSKA.OriginalGSKA: >Problem: P, Epoch: 3, Current best: 0.8679166666666667, Global best: 0.8679166666666667, Runtime: 4.32877 seconds\n",
      "2024/11/06 08:34:53 AM, INFO, mealpy.human_based.GSKA.OriginalGSKA: >Problem: P, Epoch: 4, Current best: 0.8720833333333333, Global best: 0.8720833333333333, Runtime: 4.03263 seconds\n",
      "2024/11/06 08:34:57 AM, INFO, mealpy.human_based.GSKA.OriginalGSKA: >Problem: P, Epoch: 5, Current best: 0.8720833333333333, Global best: 0.8720833333333333, Runtime: 3.84772 seconds\n",
      "2024/11/06 08:35:01 AM, INFO, mealpy.human_based.GSKA.OriginalGSKA: >Problem: P, Epoch: 6, Current best: 0.8720833333333333, Global best: 0.8720833333333333, Runtime: 3.88666 seconds\n",
      "2024/11/06 08:35:05 AM, INFO, mealpy.human_based.GSKA.OriginalGSKA: >Problem: P, Epoch: 7, Current best: 0.8762500000000001, Global best: 0.8762500000000001, Runtime: 4.02917 seconds\n",
      "2024/11/06 08:35:09 AM, INFO, mealpy.human_based.GSKA.OriginalGSKA: >Problem: P, Epoch: 8, Current best: 0.8762500000000001, Global best: 0.8762500000000001, Runtime: 4.00478 seconds\n",
      "2024/11/06 08:35:13 AM, INFO, mealpy.human_based.GSKA.OriginalGSKA: >Problem: P, Epoch: 9, Current best: 0.8791666666666667, Global best: 0.8791666666666667, Runtime: 3.81444 seconds\n",
      "2024/11/06 08:35:17 AM, INFO, mealpy.human_based.GSKA.OriginalGSKA: >Problem: P, Epoch: 10, Current best: 0.8791666666666667, Global best: 0.8791666666666667, Runtime: 3.80986 seconds\n",
      "2024/11/06 08:35:17 AM, INFO, mealpy.human_based.GSKA.OriginalGSKA: Solving 2-objective optimization problem with weights: [1. 0.].\n"
     ]
    },
    {
     "name": "stdout",
     "output_type": "stream",
     "text": [
      "Solving problem: P using algorithm: OriginalGSKA, on the: 1 trial, with best fitness: 0.8791666666666667\n"
     ]
    },
    {
     "name": "stderr",
     "output_type": "stream",
     "text": [
      "2024/11/06 08:35:30 AM, INFO, mealpy.human_based.GSKA.OriginalGSKA: >Problem: P, Epoch: 1, Current best: 0.8541666666666667, Global best: 0.8541666666666667, Runtime: 5.45078 seconds\n",
      "2024/11/06 08:35:35 AM, INFO, mealpy.human_based.GSKA.OriginalGSKA: >Problem: P, Epoch: 2, Current best: 0.8625, Global best: 0.8625, Runtime: 4.57639 seconds\n",
      "2024/11/06 08:35:39 AM, INFO, mealpy.human_based.GSKA.OriginalGSKA: >Problem: P, Epoch: 3, Current best: 0.8762500000000001, Global best: 0.8762500000000001, Runtime: 4.25897 seconds\n",
      "2024/11/06 08:35:44 AM, INFO, mealpy.human_based.GSKA.OriginalGSKA: >Problem: P, Epoch: 4, Current best: 0.8762500000000001, Global best: 0.8762500000000001, Runtime: 4.35151 seconds\n",
      "2024/11/06 08:35:48 AM, INFO, mealpy.human_based.GSKA.OriginalGSKA: >Problem: P, Epoch: 5, Current best: 0.8791666666666667, Global best: 0.8791666666666667, Runtime: 4.03467 seconds\n",
      "2024/11/06 08:35:52 AM, INFO, mealpy.human_based.GSKA.OriginalGSKA: >Problem: P, Epoch: 6, Current best: 0.8791666666666667, Global best: 0.8791666666666667, Runtime: 3.87506 seconds\n",
      "2024/11/06 08:35:55 AM, INFO, mealpy.human_based.GSKA.OriginalGSKA: >Problem: P, Epoch: 7, Current best: 0.8791666666666667, Global best: 0.8791666666666667, Runtime: 3.83825 seconds\n",
      "2024/11/06 08:35:59 AM, INFO, mealpy.human_based.GSKA.OriginalGSKA: >Problem: P, Epoch: 8, Current best: 0.8791666666666667, Global best: 0.8791666666666667, Runtime: 3.81283 seconds\n",
      "2024/11/06 08:36:03 AM, INFO, mealpy.human_based.GSKA.OriginalGSKA: >Problem: P, Epoch: 9, Current best: 0.8791666666666667, Global best: 0.8791666666666667, Runtime: 3.92485 seconds\n",
      "2024/11/06 08:36:07 AM, INFO, mealpy.human_based.GSKA.OriginalGSKA: >Problem: P, Epoch: 10, Current best: 0.8791666666666667, Global best: 0.8791666666666667, Runtime: 4.07469 seconds\n"
     ]
    },
    {
     "name": "stdout",
     "output_type": "stream",
     "text": [
      "Solving problem: P using algorithm: OriginalGSKA, on the: 2 trial, with best fitness: 0.8791666666666667\n",
      "Selected indices for trial1 with OriginalWOA: [ 1  5 13 14 19]\n",
      "Feature names for trial1 with OriginalWOA: ['blood_pressure', 'red_blood_cells', 'potassium', 'hemoglobin', 'diabetes_mellitus']\n",
      "Selected indices for trial1 with OriginalGWO: [ 5  9 14 18]\n",
      "Feature names for trial1 with OriginalGWO: ['red_blood_cells', 'blood_glucose_random', 'hemoglobin', 'hypertension']\n",
      "Selected indices for trial1 with OriginalTLO: [ 2  5  9 13 14 19]\n",
      "Feature names for trial1 with OriginalTLO: ['specific_gravity', 'red_blood_cells', 'blood_glucose_random', 'potassium', 'hemoglobin', 'diabetes_mellitus']\n",
      "Selected indices for trial1 with OriginalGSKA: [ 5  6 11 14 22]\n",
      "Feature names for trial1 with OriginalGSKA: ['red_blood_cells', 'pus_cell', 'serum_creatinine', 'hemoglobin', 'pedal_edema']\n",
      "Selected indices for trial2 with OriginalWOA: [ 5 11 14]\n",
      "Feature names for trial2 with OriginalWOA: ['red_blood_cells', 'serum_creatinine', 'hemoglobin']\n",
      "Selected indices for trial2 with OriginalGWO: [ 5  9 14 19]\n",
      "Feature names for trial2 with OriginalGWO: ['red_blood_cells', 'blood_glucose_random', 'hemoglobin', 'diabetes_mellitus']\n",
      "Selected indices for trial2 with OriginalTLO: [ 5  6  8 22]\n",
      "Feature names for trial2 with OriginalTLO: ['red_blood_cells', 'pus_cell', 'bacteria', 'pedal_edema']\n",
      "Selected indices for trial2 with OriginalGSKA: [ 5  6 11 14 19]\n",
      "Feature names for trial2 with OriginalGSKA: ['red_blood_cells', 'pus_cell', 'serum_creatinine', 'hemoglobin', 'diabetes_mellitus']\n",
      "Selected indices for trial3 with OriginalWOA: []\n",
      "Feature names for trial3 with OriginalWOA: []\n",
      "Selected indices for trial3 with OriginalGWO: []\n",
      "Feature names for trial3 with OriginalGWO: []\n",
      "Selected indices for trial3 with OriginalTLO: []\n",
      "Feature names for trial3 with OriginalTLO: []\n",
      "Selected indices for trial3 with OriginalGSKA: []\n",
      "Feature names for trial3 with OriginalGSKA: []\n",
      "Performance for trial1 with OriginalWOA - CV Accuracy: 0.9594, Test Accuracy: 0.9250, F1 Score: 0.9258\n",
      "Performance for trial1 with OriginalGWO - CV Accuracy: 0.9625, Test Accuracy: 0.9625, F1 Score: 0.9626\n",
      "Performance for trial1 with OriginalTLO - CV Accuracy: 0.9750, Test Accuracy: 0.9750, F1 Score: 0.9748\n",
      "Performance for trial1 with OriginalGSKA - CV Accuracy: 0.9719, Test Accuracy: 0.9750, F1 Score: 0.9750\n",
      "Performance for trial2 with OriginalWOA - CV Accuracy: 0.9563, Test Accuracy: 0.9250, F1 Score: 0.9254\n",
      "Performance for trial2 with OriginalGWO - CV Accuracy: 0.9656, Test Accuracy: 0.9250, F1 Score: 0.9258\n",
      "Performance for trial2 with OriginalTLO - CV Accuracy: 0.9313, Test Accuracy: 0.9125, F1 Score: 0.9122\n",
      "Performance for trial2 with OriginalGSKA - CV Accuracy: 0.9688, Test Accuracy: 0.9750, F1 Score: 0.9750\n"
     ]
    }
   ],
   "source": [
    "import pandas as pd\n",
    "import numpy as np\n",
    "from mafese.wrapper.mha import MultiMhaSelector\n",
    "from mafese import Data\n",
    "from xgboost import XGBClassifier\n",
    "from sklearn.model_selection import cross_val_score\n",
    "from sklearn.metrics import accuracy_score, f1_score\n",
    "\n",
    "# Load dataset\n",
    "df = pd.read_csv('new_kidney_disease.csv')\n",
    "X = df.iloc[:, :-1].to_numpy()  \n",
    "y = df.iloc[:, -1].to_numpy()\n",
    "feature_names = df.columns[:-1]  \n",
    "\n",
    "# Initialize and split data\n",
    "data = Data(X, y)\n",
    "data.split_train_test(test_size=0.2)\n",
    "X_train, y_train, X_test, y_test = data.X_train, data.y_train, data.X_test, data.y_test\n",
    "\n",
    "# Initialize feature selector\n",
    "list_optimizers = (\"OriginalWOA\", \"OriginalGWO\", \"OriginalTLO\", \"OriginalGSKA\")\n",
    "list_paras = [{\"epoch\": 10, \"pop_size\": 30}] * len(list_optimizers)\n",
    "feat_selector = MultiMhaSelector(\n",
    "    problem=\"classification\",\n",
    "    estimator=\"xgb\",\n",
    "    list_optimizers=list_optimizers,\n",
    "    list_optimizer_paras=list_paras,\n",
    "    transfer_func=\"vstf_01\",\n",
    "    obj_name=\"AS\"\n",
    ")\n",
    "\n",
    "# Fit feature selector\n",
    "feat_selector.fit(X_train, y_train)\n",
    "\n",
    "# Gather selected indices and feature names\n",
    "selected_features = {}\n",
    "trials = [\"trial1\", \"trial2\", \"trial3\"]\n",
    "\n",
    "for trial in trials:\n",
    "    for optimizer in list_optimizers:\n",
    "        indices = feat_selector.list_selected_feature_indexes.get(trial, {}).get(optimizer, [])\n",
    "        selected_feature_names = feature_names[indices] if len(indices) > 0 else []\n",
    "        selected_features[(trial, optimizer)] = (indices, selected_feature_names)\n",
    "        print(f\"Selected indices for {trial} with {optimizer}: {indices}\")\n",
    "        print(f\"Feature names for {trial} with {optimizer}: {list(selected_feature_names)}\")\n",
    "\n",
    "# Initialize dictionary for results\n",
    "results = {}\n",
    "\n",
    "# Calculate cross-validation and test metrics\n",
    "for (trial, optimizer), (indices, _) in selected_features.items():\n",
    "    if len(indices) > 0:  \n",
    "        X_selected_train, X_selected_test = X_train[:, indices], X_test[:, indices]\n",
    "        \n",
    "        # Cross-validate the model\n",
    "        model = XGBClassifier(use_label_encoder=False, eval_metric='logloss')\n",
    "        cv_accuracy = cross_val_score(model, X_selected_train, y_train, cv=5, scoring='accuracy').mean()\n",
    "        \n",
    "        # Fit and evaluate on test set\n",
    "        model.fit(X_selected_train, y_train)\n",
    "        y_pred = model.predict(X_selected_test)\n",
    "        test_accuracy = accuracy_score(y_test, y_pred)\n",
    "        f1 = f1_score(y_test, y_pred, average='weighted')\n",
    "        \n",
    "        # Store results\n",
    "        results[(trial, optimizer)] = {\n",
    "            'cv_accuracy': cv_accuracy,\n",
    "            'test_accuracy': test_accuracy,\n",
    "            'f1_score': f1\n",
    "        }\n",
    "\n",
    "# Print summarized results\n",
    "for (trial, optimizer), metrics in results.items():\n",
    "    print(f\"Performance for {trial} with {optimizer} - \"\n",
    "          f\"CV Accuracy: {metrics['cv_accuracy']:.4f}, \"\n",
    "          f\"Test Accuracy: {metrics['test_accuracy']:.4f}, \"\n",
    "          f\"F1 Score: {metrics['f1_score']:.4f}\")\n"
   ]
  },
  {
   "cell_type": "code",
   "execution_count": null,
   "id": "ee67bc61",
   "metadata": {},
   "outputs": [],
   "source": []
  },
  {
   "cell_type": "code",
   "execution_count": null,
   "id": "75a066d3",
   "metadata": {},
   "outputs": [],
   "source": []
  },
  {
   "cell_type": "code",
   "execution_count": null,
   "id": "52fcaae8",
   "metadata": {},
   "outputs": [],
   "source": []
  },
  {
   "cell_type": "code",
   "execution_count": null,
   "id": "3c279780",
   "metadata": {},
   "outputs": [],
   "source": []
  },
  {
   "cell_type": "code",
   "execution_count": null,
   "id": "8b8d123a",
   "metadata": {},
   "outputs": [],
   "source": []
  },
  {
   "cell_type": "code",
   "execution_count": null,
   "id": "01240564",
   "metadata": {},
   "outputs": [],
   "source": []
  },
  {
   "cell_type": "code",
   "execution_count": null,
   "id": "b09608a6",
   "metadata": {},
   "outputs": [],
   "source": []
  }
 ],
 "metadata": {
  "kernelspec": {
   "display_name": "Python 3 (ipykernel)",
   "language": "python",
   "name": "python3"
  },
  "language_info": {
   "codemirror_mode": {
    "name": "ipython",
    "version": 3
   },
   "file_extension": ".py",
   "mimetype": "text/x-python",
   "name": "python",
   "nbconvert_exporter": "python",
   "pygments_lexer": "ipython3",
   "version": "3.11.5"
  }
 },
 "nbformat": 4,
 "nbformat_minor": 5
}
